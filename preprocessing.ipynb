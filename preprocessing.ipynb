{
  "nbformat": 4,
  "nbformat_minor": 0,
  "metadata": {
    "colab": {
      "provenance": [],
      "authorship_tag": "ABX9TyN7rXCuEULIIHS3I0AEKhVJ",
      "include_colab_link": true
    },
    "kernelspec": {
      "name": "python3",
      "display_name": "Python 3"
    },
    "language_info": {
      "name": "python"
    }
  },
  "cells": [
    {
      "cell_type": "markdown",
      "metadata": {
        "id": "view-in-github",
        "colab_type": "text"
      },
      "source": [
        "<a href=\"https://colab.research.google.com/github/marufiqbal5g/ANPR-System/blob/main/preprocessing.ipynb\" target=\"_parent\"><img src=\"https://colab.research.google.com/assets/colab-badge.svg\" alt=\"Open In Colab\"/></a>"
      ]
    },
    {
      "cell_type": "code",
      "execution_count": null,
      "metadata": {
        "id": "y3dBFI8t_a2c"
      },
      "outputs": [],
      "source": [
        "import os\n",
        "from sklearn.model_selection import train_test_split\n",
        "import cv2\n",
        "import os\n",
        "import yaml"
      ]
    },
    {
      "cell_type": "code",
      "source": [
        "from google.colab import drive\n",
        "drive.mount('/content/drive')"
      ],
      "metadata": {
        "colab": {
          "base_uri": "https://localhost:8080/"
        },
        "id": "rIzI6NytAdf5",
        "outputId": "60cb2600-8d83-45ac-9f3e-97051e7f2f85"
      },
      "execution_count": null,
      "outputs": [
        {
          "output_type": "stream",
          "name": "stdout",
          "text": [
            "Drive already mounted at /content/drive; to attempt to forcibly remount, call drive.mount(\"/content/drive\", force_remount=True).\n"
          ]
        }
      ]
    },
    {
      "cell_type": "code",
      "source": [
        "root_dir = \"/content/drive/MyDrive/Transport AI/DEMO_PROJECT/datasets/car-number-plate/\"\n",
        "valid_formats = [\".jpg\", \".jpeg\", \".png\", \".txt\"]"
      ],
      "metadata": {
        "id": "5Fck-knZ_8Hs"
      },
      "execution_count": null,
      "outputs": []
    },
    {
      "cell_type": "code",
      "source": [
        "os.getcwd()"
      ],
      "metadata": {
        "colab": {
          "base_uri": "https://localhost:8080/",
          "height": 35
        },
        "id": "FRikGravGWQm",
        "outputId": "2777cbdb-01d4-4adb-f138-bca48d98000c"
      },
      "execution_count": null,
      "outputs": [
        {
          "output_type": "execute_result",
          "data": {
            "text/plain": [
              "'/content/drive/MyDrive/Transport AI/DEMO_PROJECT'"
            ],
            "application/vnd.google.colaboratory.intrinsic+json": {
              "type": "string"
            }
          },
          "metadata": {},
          "execution_count": 34
        }
      ]
    },
    {
      "cell_type": "code",
      "source": [
        "os.chdir(root_dir)"
      ],
      "metadata": {
        "id": "QT-_QQGlGgQJ"
      },
      "execution_count": null,
      "outputs": []
    },
    {
      "cell_type": "code",
      "source": [
        "def file_paths(root, valid_formats):\n",
        "    \"get the full path to each image/label in the dataset\"\n",
        "    file_paths = []\n",
        "\n",
        "    # loop over the directory tree\n",
        "    for dirpath, dirnames, filenames in os.walk(root):\n",
        "        # loop over the filenames in the current directory\n",
        "        for filename in filenames:\n",
        "            # extract the file extension from the filename\n",
        "            extension = os.path.splitext(filename)[1].lower()\n",
        "\n",
        "            # if the filename has a valid extension we build the full\n",
        "            # path to the file and append it to our list\n",
        "            if extension in valid_formats:\n",
        "                file_path = os.path.join(dirpath, filename)\n",
        "                file_paths.append(file_path)\n",
        "\n",
        "    return file_paths"
      ],
      "metadata": {
        "id": "IcL3LBxlAO1B"
      },
      "execution_count": null,
      "outputs": []
    },
    {
      "cell_type": "code",
      "source": [
        "image_paths = file_paths(root_dir + \"images\", valid_formats[:3])\n",
        "label_paths = file_paths(root_dir + \"labels\", valid_formats[-1])"
      ],
      "metadata": {
        "id": "AnSWT3fdBVYc"
      },
      "execution_count": null,
      "outputs": []
    },
    {
      "cell_type": "code",
      "source": [
        "type(image_paths)"
      ],
      "metadata": {
        "colab": {
          "base_uri": "https://localhost:8080/"
        },
        "id": "9zAK8VJD_y6e",
        "outputId": "4af38fd5-e0ea-4112-f8d3-1e0a6f915f68"
      },
      "execution_count": null,
      "outputs": [
        {
          "output_type": "execute_result",
          "data": {
            "text/plain": [
              "list"
            ]
          },
          "metadata": {},
          "execution_count": 17
        }
      ]
    },
    {
      "cell_type": "code",
      "source": [
        "os.chdir('/content/drive/MyDrive/Transport AI/DEMO_PROJECT')"
      ],
      "metadata": {
        "id": "Qbo4ZqOnMXhW"
      },
      "execution_count": null,
      "outputs": []
    },
    {
      "cell_type": "code",
      "source": [
        "os.getcwd()"
      ],
      "metadata": {
        "colab": {
          "base_uri": "https://localhost:8080/",
          "height": 35
        },
        "id": "54CrJWN7_GNE",
        "outputId": "a9b38840-d649-43d2-c316-86946a89f3d0"
      },
      "execution_count": null,
      "outputs": [
        {
          "output_type": "execute_result",
          "data": {
            "text/plain": [
              "'/content/drive/MyDrive/Transport AI/DEMO_PROJECT'"
            ],
            "application/vnd.google.colaboratory.intrinsic+json": {
              "type": "string"
            }
          },
          "metadata": {},
          "execution_count": 39
        }
      ]
    },
    {
      "cell_type": "code",
      "source": [
        "# split the data into training, validation and testing sets\n",
        "X_train, X_val_test, y_train, y_val_test = train_test_split(image_paths, label_paths, test_size=0.3, random_state=42)\n",
        "X_val, X_test, y_val, y_test = train_test_split(X_val_test, y_val_test, test_size=0.7, random_state=42)\n",
        "# X_train, X_test, y_train, y_test = train_test_split(X, y, test_size=0.33, random_state=42)"
      ],
      "metadata": {
        "id": "jf43aLMR8dUJ"
      },
      "execution_count": null,
      "outputs": []
    },
    {
      "cell_type": "code",
      "source": [
        "def write_to_file(images_path, labels_path, X):\n",
        "\n",
        "    # Create the directories if they don't exist\n",
        "    os.makedirs(images_path, exist_ok=True)\n",
        "    os.makedirs(labels_path, exist_ok=True)\n",
        "\n",
        "    # loop over the image paths\n",
        "    for img_path in X:\n",
        "        # Get the image name and extension\n",
        "        img_name = img_path.split(\"/\")[-1].split(\".\")[0]\n",
        "        img_ext = img_path.split(\"/\")[-1].split(\".\")[-1]\n",
        "        # read the image\n",
        "        image = cv2.imread(img_path)\n",
        "        # save the image to the images directory\n",
        "        cv2.imwrite(f\"{images_path}/{img_name}.{img_ext}\", image)\n",
        "\n",
        "        # open the label file and write its contents to the new label file\n",
        "        f = open(f\"{labels_path}/{img_name}.txt\", \"w\")\n",
        "        label_file = open(f\"{root_dir}/labels/{img_name}.txt\", \"r\")\n",
        "        f.write(label_file.read())\n",
        "        f.close()\n",
        "        label_file.close()"
      ],
      "metadata": {
        "id": "uBB74zmXNG2e"
      },
      "execution_count": null,
      "outputs": []
    },
    {
      "cell_type": "code",
      "source": [
        "write_to_file(\"datasets/images/train\", \"datasets/labels/train\", X_train)"
      ],
      "metadata": {
        "id": "0CrHh_9tNbfZ"
      },
      "execution_count": null,
      "outputs": []
    },
    {
      "cell_type": "code",
      "source": [
        "write_to_file(\"datasets/images/valid\", \"datasets/labels/valid\", X_val)"
      ],
      "metadata": {
        "id": "c9BPoIY2PTRo"
      },
      "execution_count": null,
      "outputs": []
    },
    {
      "cell_type": "code",
      "source": [
        "write_to_file(\"datasets/images/test\", \"datasets/labels/test\", X_test)"
      ],
      "metadata": {
        "id": "W6jnAoQfPWwa"
      },
      "execution_count": null,
      "outputs": []
    },
    {
      "cell_type": "code",
      "source": [
        "!tree"
      ],
      "metadata": {
        "colab": {
          "base_uri": "https://localhost:8080/"
        },
        "id": "BtKzWWaoRCKM",
        "outputId": "968c84a2-09ba-4213-8713-fc2a85aab089"
      },
      "execution_count": null,
      "outputs": [
        {
          "output_type": "stream",
          "name": "stdout",
          "text": [
            "/bin/bash: line 1: tree: command not found\n"
          ]
        }
      ]
    }
  ]
}